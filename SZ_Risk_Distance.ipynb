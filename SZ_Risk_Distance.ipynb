{
 "cells": [
  {
   "cell_type": "markdown",
   "metadata": {},
   "source": [
    "# Introduciton and table of content for the notebook\n",
    "## Load data\n",
    "## Final Model\n",
    "## ect"
   ]
  },
  {
   "cell_type": "code",
   "execution_count": 12,
   "metadata": {},
   "outputs": [],
   "source": [
    "library(data.table,verbose = F,quietly = T)\n",
    "library(mixOmics,verbose = F,quietly = T)\n",
    "library(raster,verbose = F,quietly = T)\n",
    "library(pracma,verbose = F,quietly = T)\n",
    "library(ggpubr,verbose = F,quietly = T)\n",
    "library(gplots,verbose = F,quietly = T)\n",
    "library(RColorBrewer,verbose = F,quietly = T)\n",
    "library(mediation,verbose = F,quietly = T)\n",
    "library(cowplot,verbose = F,quietly = T)\n",
    "library(caret,verbose = F,quietly = T)\n",
    "library(randomForest,verbose = F,quietly = T)\n",
    "library(ROCR,verbose = F,quietly = T)\n",
    "library(caTools,verbose = F,quietly = T)"
   ]
  },
  {
   "cell_type": "markdown",
   "metadata": {},
   "source": [
    "# Load HM450 data downloaded from GEO"
   ]
  },
  {
   "cell_type": "code",
   "execution_count": 13,
   "metadata": {},
   "outputs": [],
   "source": [
    "sample_id_phase1 <- read.csv(\"./GEO/E-GEOD-80417.sdrf.txt\",sep = \"\\t\")\n",
    "sample_id_phase2 <- read.csv(\"./GEO/E-GEOD-84727.sdrf.txt\",sep = \"\\t\")\n",
    "phase1 <- fread(\"./GEO/GSE80417_normalizedBetas.csv\", header = T)\n",
    "phase2 <- fread(\"./GEO/GSE84727_normalisedBetas.csv\", header = T)"
   ]
  },
  {
   "cell_type": "markdown",
   "metadata": {},
   "source": [
    "# Remove Tobacco smoking associated probes from data"
   ]
  },
  {
   "cell_type": "code",
   "execution_count": 14,
   "metadata": {},
   "outputs": [],
   "source": [
    "tobacco_schizo <- c(\"cg05575921\",\n",
    "                    \"cg01940273\",\n",
    "                    \"cg26703534\",\n",
    "                    \"cg03636183\",\n",
    "                    \"cg05951221\",\n",
    "                    \"cg25952192\",\n",
    "                    \"cg03274391\",\n",
    "                    \"cg01772743\",\n",
    "                    \"cg13862853\",\n",
    "                    \"cg20566897\")"
   ]
  },
  {
   "cell_type": "code",
   "execution_count": 15,
   "metadata": {},
   "outputs": [],
   "source": [
    "common_probes <- intersect(phase1$V1,phase2$V1)\n",
    "common_probes <- setdiff(common_probes,tobacco_schizo)\n",
    "\n",
    "phase1 <- subset(phase1, V1 %in% common_probes)\n",
    "phase2 <- subset(phase2, V1 %in% common_probes)"
   ]
  },
  {
   "cell_type": "markdown",
   "metadata": {},
   "source": [
    "# Load Blood Cell Compositions, Smoking Scores, PRS"
   ]
  },
  {
   "cell_type": "code",
   "execution_count": null,
   "metadata": {},
   "outputs": [],
   "source": [
    "blood_brain_pearson <- read.table(\"./Blood_Brain_Pearson_CoRR.txt\",header = T)"
   ]
  },
  {
   "cell_type": "code",
   "execution_count": 17,
   "metadata": {},
   "outputs": [],
   "source": [
    "Aberdeen_covariates <- read.csv(\"./data_sources/AdditionalCovariatesAberdeen.csv\")\n",
    "UCL_covariates <- read.csv(\"./data_sources/AdditionalCovariatesUCL.csv\")\n",
    "UCL_PRS <- read.csv(\"./data_sources/UCL_PRS.csv\")\n",
    "Aber_PRS <- read.csv(\"./data_sources/Aber_PRS.csv\")"
   ]
  },
  {
   "cell_type": "code",
   "execution_count": null,
   "metadata": {},
   "outputs": [],
   "source": []
  },
  {
   "cell_type": "code",
   "execution_count": null,
   "metadata": {},
   "outputs": [],
   "source": [
    "model1 <-read.csv(\"./model_variables/model_corsiv.csv\")\n",
    "model2 <-read.csv(\"./model_variables/model_range.csv\")\n",
    "selected_variables <- rbind(model1,model2)\n",
    "selected_variables  <- selected_variables[!(duplicated(selected_variables$probe_id)),]"
   ]
  },
  {
   "cell_type": "code",
   "execution_count": null,
   "metadata": {},
   "outputs": [],
   "source": [
    "phase1 <- subset(phase1, V1 %in% selected_variables$probe_id)\n",
    "phase2 <- subset(phase2, V1 %in% selected_variables$probe_id)"
   ]
  },
  {
   "cell_type": "code",
   "execution_count": null,
   "metadata": {},
   "outputs": [],
   "source": [
    "colnames_phase1 <- phase1$V1\n",
    "phase1$V1 <- NULL\n",
    "phase1_t <- data.frame(t(phase1))\n",
    "colnames(phase1_t) <- colnames_phase1\n",
    "phase1_t$sample.id <- rownames(phase1_t)\n",
    "rownames(phase1_t) <- NULL"
   ]
  },
  {
   "cell_type": "code",
   "execution_count": null,
   "metadata": {},
   "outputs": [],
   "source": [
    "colnames_phase2 <- phase2$V1\n",
    "phase2$V1 <- NULL\n",
    "phase2_t <- data.frame(t(phase2))\n",
    "colnames(phase2_t) <- colnames_phase2\n",
    "phase2_t$sample.id <- rownames(phase2_t)\n",
    "rownames(phase2_t) <- NULL"
   ]
  },
  {
   "cell_type": "code",
   "execution_count": null,
   "metadata": {},
   "outputs": [],
   "source": [
    "#phase 2 data to train and phase 1 data to test\n",
    "test <- data.frame(merge(sample_id_phase1,phase1_t,by.x = \"id\",by.y = \"sample.id\"))\n",
    "train <- data.frame(merge(sample_id_phase2,phase2_t,by.x = \"id\",by.y = \"sample.id\"))"
   ]
  },
  {
   "cell_type": "code",
   "execution_count": null,
   "metadata": {},
   "outputs": [],
   "source": [
    "head(Aberdeen_covariates)\n",
    "head(UCL_covariates)\n",
    "Aberdeen_covariates$cloz <- NULL\n",
    "UCL_covariates$cloz <- NULL\n"
   ]
  },
  {
   "cell_type": "code",
   "execution_count": null,
   "metadata": {},
   "outputs": [],
   "source": [
    "train <- merge(train,Aberdeen_covariates,by.x = \"id\",by.y=\"Basename\")\n",
    "test <- merge(test,UCL_covariates,by.x = \"id\",by.y = \"Basename\")"
   ]
  },
  {
   "cell_type": "code",
   "execution_count": null,
   "metadata": {},
   "outputs": [],
   "source": [
    "#build on phase 2\n",
    "train$CaseControl <- NULL\n",
    "train$id <- NULL\n",
    "train$sample_title <- NULL\n",
    "train$status <- as.factor(ifelse(train$status==1,0,1))\n",
    "\n",
    "test$CaseControl <- NULL\n",
    "test$id  <- NULL\n",
    "test$gender <- NULL\n",
    "test$age <- NULL\n",
    "test$status <- as.factor(ifelse(test$status==1,0,1))"
   ]
  },
  {
   "cell_type": "code",
   "execution_count": null,
   "metadata": {},
   "outputs": [],
   "source": [
    "dim(train)\n",
    "head(train)\n",
    "\n",
    "dim(test)\n",
    "head(test)"
   ]
  },
  {
   "cell_type": "code",
   "execution_count": null,
   "metadata": {},
   "outputs": [],
   "source": [
    "X <- train[,2:235]\n",
    "Y <- train$status"
   ]
  },
  {
   "cell_type": "code",
   "execution_count": null,
   "metadata": {},
   "outputs": [],
   "source": [
    "list.keepX <- seq(1,230,10)\n",
    "tune.splsda.final <- tune.splsda(X, Y, ncomp =6 , validation = 'Mfold', folds = 5, \n",
    "                           progressBar = TRUE, dist = 'max.dist', measure = \"AUC\",\n",
    "                          test.keepX = list.keepX, nrepeat = 10, cpus = 6)\n",
    "error <- tune.splsda.final$error.rate  # error rate per component for the keepX grid\n",
    "ncomp <- tune.splsda.final$choice.ncomp$ncomp # optimal number of components based on t-tests\n",
    "ncomp"
   ]
  },
  {
   "cell_type": "code",
   "execution_count": null,
   "metadata": {},
   "outputs": [],
   "source": [
    "select.keepX <- tune.splsda.final$choice.keepX[1:ncomp]  # optimal number of variables to select\n",
    "select.keepX\n",
    "plot(tune.splsda.final, col = color.jet(6))"
   ]
  },
  {
   "cell_type": "code",
   "execution_count": null,
   "metadata": {},
   "outputs": [],
   "source": [
    "splsda_output_beta <- mixOmics::splsda(X = subset(train,select = -c(status)),\n",
    "                                        Y = train$status,ncomp = 3,keepX=c(50,50,50))"
   ]
  },
  {
   "cell_type": "code",
   "execution_count": null,
   "metadata": {},
   "outputs": [],
   "source": [
    "# with background\n",
    "background = background.predict(splsda_output_beta, comp.predicted=2, dist = \"max.dist\") \n",
    "#optional: xlim = c(-40,40), ylim = c(-30,30))\n",
    "\n",
    "plotIndiv(splsda_output_beta, comp = 1:2,\n",
    "          group = as.factor(train$status), title = \"Maximum distance\",\n",
    "          legend = TRUE,  background = background)"
   ]
  },
  {
   "cell_type": "code",
   "execution_count": null,
   "metadata": {},
   "outputs": [],
   "source": [
    "v <- plotIndiv(splsda_output_beta, legend=TRUE,comp = c(1,3),\n",
    "               ellipse = T, star = FALSE, title = paste0('sPLS-DA Dimentions Plot-',\"Schizophrenia\"))\n",
    "#confidence level set to 95%"
   ]
  },
  {
   "cell_type": "code",
   "execution_count": null,
   "metadata": {
    "scrolled": false
   },
   "outputs": [],
   "source": [
    "set.seed(40) # for reproducibility, only when the `cpus' argument is not used\n",
    "# takes about 1 min to run\n",
    "perf.srbct <- perf(splsda_output_beta, validation = \"Mfold\", folds = 5,\n",
    "                   dist = 'max.dist', nrepeat = 10,\n",
    "                   progressBar = FALSE) \n",
    "plot(perf.srbct, col = color.mixo(2))\n",
    "\n",
    "par(mfrow=c(1,3))\n",
    "plot(perf.srbct$features$stable[[1]], type = 'h', ylab = 'Stability', \n",
    "     xlab = 'Features', main = 'Comp 1', las =2)\n",
    "plot(perf.srbct$features$stable[[2]], type = 'h', ylab = 'Stability', \n",
    "     xlab = 'Features', main = 'Comp 2', las =2)\n",
    "plot(perf.srbct$features$stable[[3]], type = 'h', ylab = 'Stability', \n",
    "     xlab = 'Features', main = 'Comp 2', las =2)\n",
    "\n",
    "# here we match the selected variables to the stable features\n",
    "ind.match = match(selectVar(splsda_output_beta, comp = 1)$name, \n",
    "                  names(perf.srbct$features$stable[[1]]))\n",
    "#extract the frequency of selection of those selected variables\n",
    "Freq = as.numeric(perf.srbct$features$stable[[1]][ind.match])\n"
   ]
  },
  {
   "cell_type": "code",
   "execution_count": null,
   "metadata": {
    "scrolled": false
   },
   "outputs": [],
   "source": [
    "plotLoadings(splsda_output_beta, comp = 1, title = 'Loadings on comp 1', \n",
    "             contrib = 'max', method = 'mean')\n",
    "plotLoadings(splsda_output_beta, comp = 2, title = 'Loadings on comp 2', \n",
    "             contrib = 'max', method = 'mean')\n",
    "plotLoadings(splsda_output_beta, comp = 3, title = 'Loadings on comp 3', \n",
    "             contrib = 'max', method = 'mean')"
   ]
  },
  {
   "cell_type": "code",
   "execution_count": null,
   "metadata": {
    "scrolled": false
   },
   "outputs": [],
   "source": [
    "cim(splsda_output_beta,comp=1, title =\"Component 1\")\n",
    "cim(splsda_output_beta,comp=2, title =\"Component 2\")\n",
    "cim(splsda_output_beta,comp=3, title =\"Component 3\")"
   ]
  },
  {
   "cell_type": "code",
   "execution_count": null,
   "metadata": {},
   "outputs": [],
   "source": [
    "plotVar(splsda_output_beta)"
   ]
  },
  {
   "cell_type": "code",
   "execution_count": null,
   "metadata": {},
   "outputs": [],
   "source": []
  },
  {
   "cell_type": "code",
   "execution_count": null,
   "metadata": {},
   "outputs": [],
   "source": [
    "plsdaDF <- as.data.frame(v$df)\n",
    "highest_x_y <- ceiling(max(max(abs(plsdaDF$x)),max(abs(plsdaDF$y))))\n",
    "marginal_plot(x = x, y = y, group = group, data = v$df,\n",
    "              bw = \"nrd\", lm_formula = NULL, xlab = \"sPLS-DA Dim 1\", ylab = \"sPLS-DA Dim 2\", pch = 16, cex =1.5)"
   ]
  },
  {
   "cell_type": "code",
   "execution_count": null,
   "metadata": {},
   "outputs": [],
   "source": [
    "var(plsdaDF$x)\n",
    "var(plsdaDF$y)\n",
    "rad2deg(atan2(2,1))"
   ]
  },
  {
   "cell_type": "code",
   "execution_count": null,
   "metadata": {},
   "outputs": [],
   "source": [
    "# plsdaDF <- as.data.frame(v$df)\n",
    "highest_x_y <- ceiling(max(max(abs(plsdaDF$x)),max(abs(plsdaDF$y))))\n",
    "risk_distance <- function(cancer_sample){\n",
    "    X <- as.numeric(cancer_sample[1])\n",
    "    Y <- as.numeric(cancer_sample[2])\n",
    "    d <- pointDistance(c(0,0),c(X,Y),lonlat = F)\n",
    "    return(d*cos(atan2(Y,X) + deg2rad(180-rad2deg(atan2(3,1)))))# - for MBCN + for BC\n",
    "    #return(d*cos(atan2(Y,X) + deg2rad(45)))# - for MBCN + for BC\n",
    "\n",
    "}\n",
    "plsdaDF$risk_distance <- -1*apply(plsdaDF, 1, risk_distance)\n",
    "plot.data <- plsdaDF[c(\"group\",\"risk_distance\")]\n",
    "cutoff <- 2*sd(plot.data[plot.data$group==0,]$risk_distance)\n",
    "ggdensity(plot.data, x = \"risk_distance\",\n",
    "          rug = TRUE,\n",
    "          color = \"group\", fill = \"group\",\n",
    "          palette = c(\"blue\", \"red\"))\n",
    "stdev_controls <- sd(plot.data[plot.data$group==0,]$risk_distance)#increase n\n",
    "mean_controls <- mean(plot.data[plot.data$group==0,]$risk_distance)\n",
    "print(stdev_controls)\n",
    "print(mean_controls)"
   ]
  },
  {
   "cell_type": "code",
   "execution_count": null,
   "metadata": {},
   "outputs": [],
   "source": [
    "Y <- test$status"
   ]
  },
  {
   "cell_type": "code",
   "execution_count": null,
   "metadata": {},
   "outputs": [],
   "source": [
    "test <- test[colnames(splsda_output_beta$X)]"
   ]
  },
  {
   "cell_type": "code",
   "execution_count": null,
   "metadata": {},
   "outputs": [],
   "source": [
    "########### PREDICTION ######\n",
    "##########################################################################\n",
    "\n",
    "#test$status <- NULL\n",
    "test.predict <- predict(splsda_output_beta, test)\n",
    "\n",
    "predicted_RD <- data.frame(-1*apply(test.predict$variates,1,risk_distance))\n",
    "predicted_RD$Y <- as.numeric(as.character(Y))\n",
    "colnames(predicted_RD) <- c(\"predictedRD\",\"Y\")\n",
    "\n",
    "predicted_RD$Y <- as.factor(predicted_RD$Y)\n",
    "ggdensity(predicted_RD, x = \"predictedRD\",\n",
    "          rug = TRUE,\n",
    "          color = \"Y\", fill = \"Y\",\n",
    "          palette = c(\"blue\", \"red\"))"
   ]
  },
  {
   "cell_type": "code",
   "execution_count": null,
   "metadata": {},
   "outputs": [],
   "source": [
    "predicted_RD$catagory <- ifelse(predicted_RD$Y==0,\"Negative\",\"Positive\")\n",
    "colnames(plot.data) <- c(\"catagory\",\"predictedRD\")\n",
    "\n",
    "final_RD_table <- rbind(\n",
    "    predicted_RD[c(\"predictedRD\",\"catagory\")],\n",
    "    plot.data[c(\"predictedRD\",\"catagory\")]\n",
    ")\n",
    "    \n",
    "ggdensity(final_RD_table, x = \"predictedRD\",\n",
    "          rug = TRUE,\n",
    "          color = \"catagory\", fill = \"catagory\",\n",
    "          palette = c(\"blue\", \"red\",\"yellow\",\"green\"))"
   ]
  },
  {
   "cell_type": "code",
   "execution_count": null,
   "metadata": {
    "scrolled": false
   },
   "outputs": [],
   "source": [
    "#################################################\n",
    "PPV <-c()\n",
    "num_of_predicted_ind <- c()\n",
    "#stdev <- sd(plot.data[plot.data$catagory==0,]$risk_distance)#increase n\n",
    "#mean_PRD <- mean(plot.data[plot.data$catagory==0,]$risk_distance)\n",
    "n_controls <- c()\n",
    "n_cases <- c()\n",
    "\n",
    "\n",
    "for(n in seq(1,3,0.5)){\n",
    "    cutoff <- n*stdev_controls\n",
    "    cutoff <- mean_controls + cutoff\n",
    "    \n",
    "    predicted_RD_cutoff <- predicted_RD[predicted_RD$predictedRD>cutoff,]\n",
    "    #n_controls_in_sd <- dim(predicted_RD_cutoff[predicted_RD_cutoff$Y==0,])[1]\n",
    "    #n_cases_in_sd <- dim(predicted_RD_cutoff[predicted_RD_cutoff$Y==1,])[1]\n",
    "    predicted_RD_cutoff$predicted_Y <- as.numeric(ifelse(predicted_RD_cutoff$predictedRD>cutoff,1,0))\n",
    "    \n",
    "    PPV <- c(PPV,\n",
    "             dim(predicted_RD_cutoff[predicted_RD_cutoff$Y==1 & predicted_RD_cutoff$predicted_Y==1 ,])[1]/dim(predicted_RD_cutoff[predicted_RD_cutoff$predicted_Y==1 ,])[1])\n",
    "    num_of_predicted_ind <- c(num_of_predicted_ind,dim(predicted_RD_cutoff)[1])\n",
    "}\n",
    "\n",
    "plot(x=seq(1,3,0.5),y=round(PPV,2),type=\"o\",col=\"red\",xlab=\"Number of standard deviations from mean\")\n",
    "plot(x=seq(1,3,0.5),y=num_of_predicted_ind,type=\"o\",col=\"blue\",xlab=\"Number of standard deviations from mean\",ylab=\"Number of individuals predicted\")"
   ]
  },
  {
   "cell_type": "code",
   "execution_count": null,
   "metadata": {},
   "outputs": [],
   "source": [
    "num_of_predicted_ind\n",
    "PPV"
   ]
  },
  {
   "cell_type": "code",
   "execution_count": null,
   "metadata": {},
   "outputs": [],
   "source": [
    "varComp1 <- selectVar(splsda_output_beta,comp = 1)\n",
    "varComp2 <- selectVar(splsda_output_beta,comp = 2)\n",
    "\n",
    "selected_C1 <- data.frame(varComp1$value)\n",
    "selected_C2 <- data.frame(varComp2$value)\n",
    "\n",
    "selected_C1$probe_id <- row.names(selected_C1)\n",
    "selected_C2$probe_id <- row.names(selected_C2)"
   ]
  },
  {
   "cell_type": "code",
   "execution_count": null,
   "metadata": {},
   "outputs": [],
   "source": [
    "varible_importance <- rbind(selected_C1[order(abs(selected_C1$value.var),decreasing=T),]\n",
    ",selected_C2[order(abs(selected_C2$value.var),decreasing=T),])\n",
    "\n",
    "varible_importance$value.var <- abs(varible_importance$value.var)\n",
    "varible_importance <- varible_importance[order(varible_importance$value.var,decreasing = T),]"
   ]
  },
  {
   "cell_type": "code",
   "execution_count": null,
   "metadata": {},
   "outputs": [],
   "source": [
    "selected_var <- as.character(varible_importance$probe_id)"
   ]
  },
  {
   "cell_type": "code",
   "execution_count": null,
   "metadata": {},
   "outputs": [],
   "source": [
    "selected_var <- c('status',unique(selected_var))"
   ]
  },
  {
   "cell_type": "code",
   "execution_count": null,
   "metadata": {},
   "outputs": [],
   "source": [
    "test <- data.frame(merge(sample_id_phase1,phase1_t,by.x = \"id\",by.y = \"sample.id\"))\n",
    "train <- data.frame(merge(sample_id_phase2,phase2_t,by.x = \"id\",by.y = \"sample.id\"))\n",
    "train <- merge(train,Aberdeen_covariates,by.x = \"id\",by.y=\"Basename\")\n",
    "test <- merge(test,UCL_covariates,by.x = \"id\",by.y = \"Basename\")"
   ]
  },
  {
   "cell_type": "code",
   "execution_count": null,
   "metadata": {},
   "outputs": [],
   "source": [
    "train <- train[selected_var]\n",
    "test <- test[selected_var]"
   ]
  },
  {
   "cell_type": "code",
   "execution_count": null,
   "metadata": {},
   "outputs": [],
   "source": [
    "rf_model=randomForest(as.factor(status) ~.,data = train,ntree=500,mtry=50,importance=TRUE)\n",
    "prediction <- predict(rf_model,subset(test,select = -c(status)))\n",
    "table(observed = test$status,predicted=prediction)\n",
    "# Calculate the probability of new observations belonging to each class\n",
    "# prediction_for_roc_curve will be a matrix with dimensions data_set_size x number_of_classes\n",
    "prediction_for_roc_curve <- predict(rf_model,subset(test,select = -c(status)),type=\"prob\")\n",
    "# Use pretty colours:\n",
    "pretty_colours <- c(\"#F8766D\")\n",
    "# Specify the different classes \n",
    "classes <- levels(as.factor(test$status))\n",
    "# For each class\n",
    "i = 1\n",
    " # Define which observations belong to class[i]\n",
    "true_values <- ifelse(test$status==classes[i],2,1)\n",
    "pred <- prediction(prediction_for_roc_curve[,i],true_values)\n",
    "\n",
    "perf <- performance(pred, \"tpr\", \"fpr\")\n",
    "plot(perf,main=\"ROC Curve\",col=\"#F8766D\") \n",
    "auc.perf <- performance(pred, measure = \"auc\")\n",
    "auc.perf@y.values"
   ]
  },
  {
   "cell_type": "code",
   "execution_count": null,
   "metadata": {
    "scrolled": false
   },
   "outputs": [],
   "source": [
    "varImpPlot(rf_model,type = 2)"
   ]
  },
  {
   "cell_type": "code",
   "execution_count": null,
   "metadata": {},
   "outputs": [],
   "source": [
    "head(blood_brain_pearson)"
   ]
  },
  {
   "cell_type": "code",
   "execution_count": null,
   "metadata": {},
   "outputs": [],
   "source": [
    "data <- subset(blood_brain_pearson, probe_id %in% selected_var)\n",
    "rownames(data) <- data$probe_id\n",
    "data$probe_id <- NULL\n",
    "options(repr.plot.width=15, repr.plot.height=10)\n",
    "heatmap.2(as.matrix(t(data)),col=rev(brewer.pal(7,\"RdBu\")),main = \"Blood-Brain Correlation Final Model Probes\",\n",
    "          trace=\"none\",margins = c(8, 16),\n",
    "          distfun = function(x) dist(x, method=\"manhattan\"),\n",
    "          hclustfun = function(x) hclust(x,method=\"average\"),scale=\"none\",key = FALSE)"
   ]
  },
  {
   "cell_type": "code",
   "execution_count": null,
   "metadata": {},
   "outputs": [],
   "source": [
    "predicted_RD$Basename <- UCL_covariates$Basename"
   ]
  },
  {
   "cell_type": "code",
   "execution_count": null,
   "metadata": {},
   "outputs": [],
   "source": [
    "UCL_PRS <- read.csv(\"./UCL_PRS.csv\")\n"
   ]
  },
  {
   "cell_type": "code",
   "execution_count": null,
   "metadata": {},
   "outputs": [],
   "source": [
    "predicted_RD <- merge(predicted_RD,UCL_PRS,by=\"Basename\")"
   ]
  },
  {
   "cell_type": "code",
   "execution_count": null,
   "metadata": {},
   "outputs": [],
   "source": [
    "cor.test(predicted_RD$predictedRD,predicted_RD$SCORE,method = \"spearman\")"
   ]
  },
  {
   "cell_type": "code",
   "execution_count": null,
   "metadata": {},
   "outputs": [],
   "source": [
    "options(repr.plot.width=15, repr.plot.height=15)\n",
    "sp <- ggscatter(predicted_RD, x = \"SCORE\", y = \"predictedRD\",\n",
    "                color = \"catagory\", palette = c(\"blue\",\"red\"),\n",
    "                size = 2, alpha = 0.6, ggtheme = theme_bw(base_size = 20))             \n",
    "# Marginal boxplot of x (top panel) and y (right panel)\n",
    "xplot <- ggboxplot(predicted_RD, x = \"catagory\", y = \"SCORE\", \n",
    "                   color = \"catagory\", fill = \"catagory\", palette = c(\"blue\",\"red\"),\n",
    "                   alpha = 0.5, ggtheme = theme_bw())+\n",
    "  rotate()\n",
    "yplot <- ggboxplot(predicted_RD, x = \"catagory\", y = \"predictedRD\",\n",
    "                   color = \"catagory\", fill = \"catagory\", palette = c(\"blue\",\"red\"),\n",
    "                   alpha = 0.5, ggtheme = theme_bw())\n",
    "# Cleaning the plots\n",
    "sp <- sp + rremove(\"legend\")\n",
    "yplot <- yplot + clean_theme() + rremove(\"legend\")\n",
    "xplot <- xplot + clean_theme() + rremove(\"legend\")\n",
    "# Arranging the plot using cowplot\n",
    "\n",
    "plot_grid(xplot, NULL, sp, yplot, ncol = 2, align = \"hv\", \n",
    "          rel_widths = c(2, 1), rel_heights = c(1, 2))\n"
   ]
  },
  {
   "cell_type": "code",
   "execution_count": null,
   "metadata": {},
   "outputs": [],
   "source": [
    "head(predicted_RD)"
   ]
  },
  {
   "cell_type": "code",
   "execution_count": null,
   "metadata": {
    "scrolled": false
   },
   "outputs": [],
   "source": [
    "\n",
    "\n",
    "fit.totaleffect=glm(Y~SCORE,predicted_RD,family = \"binomial\")\n",
    "summary(fit.totaleffect)\n",
    "\n",
    "fit.mediator=lm(predictedRD~SCORE,data=predicted_RD)\n",
    "summary(fit.mediator)\n",
    "\n",
    "fit.dv=glm(Y~SCORE+predictedRD,data=predicted_RD,family = \"binomial\")\n",
    "summary(fit.dv)\n",
    "\n",
    "summary(mediate(fit.mediator, fit.dv, treat='SCORE', mediator='predictedRD',robustSE = TRUE, sims = 1000))"
   ]
  },
  {
   "cell_type": "code",
   "execution_count": null,
   "metadata": {},
   "outputs": [],
   "source": []
  }
 ],
 "metadata": {
  "kernelspec": {
   "display_name": "R",
   "language": "R",
   "name": "ir"
  },
  "language_info": {
   "codemirror_mode": "r",
   "file_extension": ".r",
   "mimetype": "text/x-r-source",
   "name": "R",
   "pygments_lexer": "r",
   "version": "3.6.2"
  }
 },
 "nbformat": 4,
 "nbformat_minor": 2
}
